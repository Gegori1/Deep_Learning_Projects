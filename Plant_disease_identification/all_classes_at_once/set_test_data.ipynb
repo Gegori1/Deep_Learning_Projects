{
 "cells": [
  {
   "cell_type": "code",
   "execution_count": null,
   "id": "da4972ce",
   "metadata": {
    "title": "libraries"
   },
   "outputs": [],
   "source": [
    "import os\n",
    "import sys\n",
    "import shutil\n",
    "\n",
    "import numpy as np\n",
    "import matplotlib.pyplot as plt\n",
    "\n",
    "import torch\n",
    "from torchvision import datasets, transforms\n",
    "\n",
    "from google.colab import drive\n",
    "drive.mount('/content/drive')"
   ]
  },
  {
   "cell_type": "code",
   "execution_count": null,
   "id": "776f3047",
   "metadata": {
    "title": "parameters"
   },
   "outputs": [],
   "source": [
    "\n",
    "img_to_test: int = 30\n",
    "src_name: str = 'color_2'\n",
    "dst_name: str = 'test'\n",
    "path_to_data: str = '/content/drive/My Drive/Deep_Learning_class/plant_illness/'"
   ]
  },
  {
   "cell_type": "code",
   "execution_count": null,
   "id": "07f39316",
   "metadata": {
    "title": "create test folders"
   },
   "outputs": [],
   "source": [
    "\n",
    "path_src = os.path.join(path_to_data, src_name)\n",
    "folders = os.listdir(path_src)\n",
    "\n",
    "test_folder = os.path.join(path_to_data, dst_name)\n",
    "\n",
    "if not os.path.exists(test_folder):\n",
    "    os.makedirs(test_folder)\n",
    "\n",
    "for folder in folders:\n",
    "    folder_path = os.path.join(test_folder, folder)\n",
    "    if not os.path.exists(folder_path):\n",
    "        os.makedirs(folder_path)\n",
    "        \n"
   ]
  },
  {
   "cell_type": "code",
   "execution_count": null,
   "id": "1bc119c7",
   "metadata": {
    "lines_to_next_cell": 2,
    "title": "Move images to test folders"
   },
   "outputs": [],
   "source": [
    "\n",
    "for folder in folders:\n",
    "    # check if the test folder is less than 30\n",
    "    folder_dst = os.path.join(test_folder, folder)\n",
    "    len_files_dst = len(os.listdir(folder_dst))\n",
    "    if len_files_dst < 30:\n",
    "        folder_src = os.path.join(path_src, folder)\n",
    "        files_src = os.listdir(folder_src)\n",
    "        files_src = np.random.choice(files_src, img_to_test - len_files_dst, replace=False)\n",
    "        \n",
    "        for file in files_src:\n",
    "            src = os.path.join(folder_src, file)\n",
    "            dst = os.path.join(folder_dst, file)\n",
    "            shutil.move(src, dst)\n",
    "\n",
    "\n",
    "\n",
    "\n"
   ]
  }
 ],
 "metadata": {
  "jupytext": {
   "cell_metadata_filter": "title,-all",
   "main_language": "python",
   "notebook_metadata_filter": "-all"
  }
 },
 "nbformat": 4,
 "nbformat_minor": 5
}
